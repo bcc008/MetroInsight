{
 "cells": [
  {
   "cell_type": "markdown",
   "metadata": {},
   "source": [
    "# Make Predictions on Test Data\n",
    "1. Choose top 3 models from Notebook 4\n",
    "2. Make predictions\n",
    "3. Report results"
   ]
  },
  {
   "cell_type": "code",
   "execution_count": 2,
   "metadata": {},
   "outputs": [],
   "source": [
    "import numpy as np\n",
    "import pandas as pd\n",
    "import psycopg2 as pg\n",
    "import datetime as dt\n",
    "import pickle\n",
    "import ast\n",
    "import os\n",
    "import time\n",
    "import itertools\n",
    "\n",
    "from sqlalchemy import create_engine\n",
    "from sklearn.model_selection import train_test_split\n",
    "from lib.Modeling import test_binary_level, test_multi_level\n",
    "\n",
    "%matplotlib inline\n",
    "import matplotlib.pyplot as plt"
   ]
  },
  {
   "cell_type": "markdown",
   "metadata": {},
   "source": [
    "### set inputs"
   ]
  },
  {
   "cell_type": "code",
   "execution_count": 3,
   "metadata": {},
   "outputs": [],
   "source": [
    "# model configurations\n",
    "\n",
    "file_args = yaml.load(open('./conf/pipeline_args.yml','r'))"
   ]
  },
  {
   "cell_type": "code",
   "execution_count": 4,
   "metadata": {},
   "outputs": [],
   "source": [
    "# create db connection objects\n",
    "\n",
    "conn_str_file = './conf/db_conn_str.txt'\n",
    "\n",
    "pg_conn_str = open(conn_str_file, 'r').read()\n",
    "conn = pg.connect(pg_conn_str)\n",
    "\n",
    "sqlalchemy_conn_str = open('./conf/sqlalchemy_conn_str.txt', 'r').read()\n",
    "engine = create_engine(sqlalchemy_conn_str)"
   ]
  },
  {
   "cell_type": "markdown",
   "metadata": {},
   "source": [
    "## Load data"
   ]
  },
  {
   "cell_type": "code",
   "execution_count": null,
   "metadata": {},
   "outputs": [],
   "source": [
    "train_data = pickle.load(open('./data/train_test/final_training_data.pkl','rb'), protocol=4)"
   ]
  },
  {
   "cell_type": "code",
   "execution_count": null,
   "metadata": {},
   "outputs": [],
   "source": [
    "test_data = pickle.load(open('./data/train_test/final_test_data.pkl','rb'), protocol=4)"
   ]
  },
  {
   "cell_type": "code",
   "execution_count": null,
   "metadata": {},
   "outputs": [],
   "source": [
    "parameters = pickle.load(open('./data/train_test/final_parameters.pkl','rb'), protocol=4)"
   ]
  },
  {
   "cell_type": "markdown",
   "metadata": {},
   "source": [
    "# Prediction"
   ]
  },
  {
   "cell_type": "code",
   "execution_count": null,
   "metadata": {},
   "outputs": [],
   "source": [
    "metrics_df = pd.DataFrame(columns=['model','parameters','step','cluster','accuracy',\n",
    "                                   'precision','recall','f1score','roc_auc','time_taken',\n",
    "                                   'pos_neg_ratio'])"
   ]
  },
  {
   "cell_type": "code",
   "execution_count": null,
   "metadata": {},
   "outputs": [],
   "source": [
    "for cluster in train_data['cluster'].unique():\n",
    "    \n",
    "    ## Predict binary target\n",
    "    predictions, metrics = test_binary_level(train_data, test_data, cluster, parameters_binary['cluster'])\n",
    "    metrics_df = metrics_df.append(pd.DataFrame(metrics, index=[0]))\n",
    "    \n",
    "    ## Use predictions from binary target for multi target\n",
    "    multi_test = test_data.loc[(test_data['cluster'] == cluster)]\n",
    "    multi_test['level_binary_predictions'] = predictions\n",
    "    \n",
    "    ## Predict multi level target\n",
    "    predictions, metrics = test_binary_level(train_data, test_data, cluster, parameters_multi['cluster'])\n",
    "    metrics_df = metrics_df.append(pd.DataFrame(metrics, index=[0]))"
   ]
  },
  {
   "cell_type": "markdown",
   "metadata": {},
   "source": [
    "# Evaluate"
   ]
  },
  {
   "cell_type": "code",
   "execution_count": null,
   "metadata": {},
   "outputs": [],
   "source": [
    "metrics_df = metrics_df[['model','parameters','step','cluster','accuracy','precision',\n",
    "                         'recall','f1score','roc_auc','time_taken','train_size','pos_neg_ratio']]"
   ]
  },
  {
   "cell_type": "code",
   "execution_count": null,
   "metadata": {},
   "outputs": [],
   "source": [
    "metrics_df"
   ]
  }
 ],
 "metadata": {
  "kernelspec": {
   "display_name": "Python 3",
   "language": "python",
   "name": "python3"
  },
  "language_info": {
   "codemirror_mode": {
    "name": "ipython",
    "version": 3
   },
   "file_extension": ".py",
   "mimetype": "text/x-python",
   "name": "python",
   "nbconvert_exporter": "python",
   "pygments_lexer": "ipython3",
   "version": "3.7.0"
  }
 },
 "nbformat": 4,
 "nbformat_minor": 2
}
